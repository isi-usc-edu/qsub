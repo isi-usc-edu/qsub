{
 "cells": [
  {
   "cell_type": "markdown",
   "metadata": {},
   "source": [
    " # <u>Resource-estimates (T-gate counts) for the SphereBoundaryOracle </u> \n"
   ]
  },
  {
   "cell_type": "markdown",
   "metadata": {},
   "source": [
    "<u>Idea</u>: The job of the oracle is to 'compute boundary', verifying if a grid-point lies on the boundary of a sphere. Namely, a grid-point that lies on the boundary satisfies the sphere equation: $x^2+y^2+z^2 = r^2$, where (x, y, z) are 3D spatial co-ordinates corresponding to a gridpoint and $r$ is the radius.      "
   ]
  },
  {
   "cell_type": "markdown",
   "metadata": {},
   "source": [
    "### <u>Step 1</u>: We cost out computing $x^2+y^2+z^2:$\n",
    "To implement $U|a\\rangle|b\\rangle\\dots k\\rangle|0\\rangle \\rightarrow\n",
    "    |a\\rangle|b\\rangle\\dots|k\\rangle|a^2+b^2+\\dots k^2\\rangle$, one requires roughly\n",
    "    $4 k n^2 T$ gates.\n",
    "However, tighter bounds exist:\n",
    "Numerically, it was found that $kn^2 − n$ Toffolis are required. And, in the case where k is a multiple of 3, numerical testing indicates a even tighter $kn^2 − n − 1$.\n",
    "The number of bits required by the output register is: $2*bitsize + 1.$\n",
    "* For Toffoli-gate count (Reference: Lemma 9 in https://arxiv.org/pdf/2105.12767.pdf). \n",
    "* 1 Toffoli = 4 T (Reference: https://arxiv.org/pdf/1212.5069.pdf)."
   ]
  },
  {
   "cell_type": "code",
   "execution_count": 24,
   "metadata": {},
   "outputs": [
    {
     "name": "stdout",
     "output_type": "stream",
     "text": [
      "5716\n",
      "Signature((Register(name='input', bitsize=22, shape=(3,), side=<Side.THRU: 3>), Register(name='result', bitsize=45, shape=(), side=<Side.THRU: 3>)))\n"
     ]
    }
   ],
   "source": [
    "\n",
    "from qualtran.bloqs.arithmetic import SumOfSquares\n",
    "bs_sos=22 ## numbr of grid points= n = 10^20 = 2^67. Each gridpoint is characterised by 3 co-ordinates. \n",
    "## Therefore, size of each register is [67/3] = 22.\n",
    "bloq = SumOfSquares(bitsize=bs_sos, k=3)\n",
    "t_count_sos=bloq.t_complexity().t\n",
    "print(t_count_sos)\n",
    "noqubits=bloq.signature #sizes of input and output register.\n",
    "print(noqubits)\n",
    "\n",
    "\n",
    "\n"
   ]
  },
  {
   "cell_type": "markdown",
   "metadata": {},
   "source": [
    "##### <u>Verification</u>:"
   ]
  },
  {
   "cell_type": "code",
   "execution_count": 28,
   "metadata": {},
   "outputs": [
    {
     "data": {
      "text/plain": [
       "5716"
      ]
     },
     "execution_count": 28,
     "metadata": {},
     "output_type": "execute_result"
    }
   ],
   "source": [
    "4*(3*pow(22,2) - 22 - 1)"
   ]
  },
  {
   "cell_type": "markdown",
   "metadata": {},
   "source": [
    "### <u>Step 2</u>: We cost out comparing the value found above with $r^2:$\n",
    "We are interested in costing out the implementation of: $U_a|x\\rangle = U_a|x\\rangle|z\\rangle = |x\\rangle |z \\land (x = a)\\rangle$\n",
    "\n",
    "The t_complexity is derived from:\n",
    "https://qualtran.readthedocs.io/en/latest/bloqs/comparison_gates.html#equality-as-a-special-case.\n",
    "Output is stored in a register with 1 qubit. Value of Output = 1 => Equal. Otherwise, not equal.\n",
    "Note: The T-gate complexity is independent of the value we are comparing to. And, in our case $a = r^2.$ "
   ]
  },
  {
   "cell_type": "code",
   "execution_count": 20,
   "metadata": {},
   "outputs": [
    {
     "name": "stdout",
     "output_type": "stream",
     "text": [
      "176\n"
     ]
    }
   ],
   "source": [
    "def t_count_EqualityOracle(bitsize):\n",
    "    t_complexity=4 * (bitsize - 1)\n",
    "    return t_complexity\n",
    "\n",
    "bs_comp=45 #output of x^2+y^2+z^2 is stored in a register of size 45.\n",
    "t_count_eq=t_count_EqualityOracle(bs_comp)\n",
    "print(t_count_eq)\n"
   ]
  },
  {
   "cell_type": "markdown",
   "metadata": {},
   "source": [
    "### <u>Step 3</u>: Total T-gate counts to realise the BoundarySphereOracle is:"
   ]
  },
  {
   "cell_type": "code",
   "execution_count": 26,
   "metadata": {},
   "outputs": [
    {
     "name": "stdout",
     "output_type": "stream",
     "text": [
      "5892\n"
     ]
    }
   ],
   "source": [
    "\n",
    "t_total_count_1 = t_count_sos + t_count_eq\n",
    "print(t_total_count_1)"
   ]
  },
  {
   "cell_type": "code",
   "execution_count": null,
   "metadata": {},
   "outputs": [],
   "source": [
    "\n"
   ]
  },
  {
   "cell_type": "code",
   "execution_count": null,
   "metadata": {},
   "outputs": [],
   "source": []
  }
 ],
 "metadata": {
  "kernelspec": {
   "display_name": "Python 3",
   "language": "python",
   "name": "python3"
  },
  "language_info": {
   "codemirror_mode": {
    "name": "ipython",
    "version": 3
   },
   "file_extension": ".py",
   "mimetype": "text/x-python",
   "name": "python",
   "nbconvert_exporter": "python",
   "pygments_lexer": "ipython3",
   "version": "3.10.12"
  }
 },
 "nbformat": 4,
 "nbformat_minor": 2
}
